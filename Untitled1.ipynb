{
  "nbformat": 4,
  "nbformat_minor": 0,
  "metadata": {
    "colab": {
      "provenance": [],
      "authorship_tag": "ABX9TyPRj8lS17s87fQWvYJq92x7"
    },
    "kernelspec": {
      "name": "python3",
      "display_name": "Python 3"
    },
    "language_info": {
      "name": "python"
    }
  },
  "cells": [
    {
      "cell_type": "code",
      "execution_count": 16,
      "metadata": {
        "id": "IwEil5LyWs-C"
      },
      "outputs": [],
      "source": [
        "#lista de atores e atrizes\n",
        "atores = ['Julia', 'Caue', 'Mafalda', 'Luiza', 'Vitão', 'Ygor']"
      ]
    },
    {
      "cell_type": "code",
      "source": [
        "#verificar se há determinado nome na lista \n",
        "if 'Mafalda' in atores:\n",
        "  print('Tem Mafalda SIIM')\n",
        "  print(atores.index('Mafalda'))"
      ],
      "metadata": {
        "id": "b6nyuScFYwz7"
      },
      "execution_count": 10,
      "outputs": []
    },
    {
      "cell_type": "code",
      "source": [
        "#modificar nome na lista \n",
        "atores[3] = 'Larissa'\n",
        "print(atores)"
      ],
      "metadata": {
        "colab": {
          "base_uri": "https://localhost:8080/"
        },
        "id": "odHlPZoZaEeW",
        "outputId": "8cc31cdd-1909-452c-d6a1-b9479f3e6868"
      },
      "execution_count": 17,
      "outputs": [
        {
          "output_type": "stream",
          "name": "stdout",
          "text": [
            "['Julia', 'Caue', 'Mafalda', 'Larissa', 'Vitão', 'Ygor']\n"
          ]
        }
      ]
    }
  ]
}