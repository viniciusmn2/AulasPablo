{
  "nbformat": 4,
  "nbformat_minor": 0,
  "metadata": {
    "colab": {
      "provenance": [],
      "authorship_tag": "ABX9TyP6vt17yshcCfakfnJ95eFT",
      "include_colab_link": true
    },
    "kernelspec": {
      "name": "python3",
      "display_name": "Python 3"
    },
    "language_info": {
      "name": "python"
    }
  },
  "cells": [
    {
      "cell_type": "markdown",
      "metadata": {
        "id": "view-in-github",
        "colab_type": "text"
      },
      "source": [
        "<a href=\"https://colab.research.google.com/github/viniciusmn2/AulasPablo/blob/main/Untitled0.ipynb\" target=\"_parent\"><img src=\"https://colab.research.google.com/assets/colab-badge.svg\" alt=\"Open In Colab\"/></a>"
      ]
    },
    {
      "cell_type": "code",
      "execution_count": 2,
      "metadata": {
        "id": "_6i4vI0M__tT"
      },
      "outputs": [],
      "source": [
        "num = [1,3,6,7]"
      ]
    },
    {
      "cell_type": "code",
      "source": [
        "#lista\n",
        "len(num)"
      ],
      "metadata": {
        "colab": {
          "base_uri": "https://localhost:8080/"
        },
        "id": "pTYi6rk_Bqte",
        "outputId": "957b9ba6-8479-4308-908e-d9efd6c821e2"
      },
      "execution_count": 3,
      "outputs": [
        {
          "output_type": "execute_result",
          "data": {
            "text/plain": [
              "4"
            ]
          },
          "metadata": {},
          "execution_count": 3
        }
      ]
    },
    {
      "cell_type": "code",
      "source": [
        "#lista de alunos\n",
        "alunos = ['Alana', 'Luiz', 'Henrique', 'Lucas', 'Marcos']\n",
        "len(alunos)"
      ],
      "metadata": {
        "colab": {
          "base_uri": "https://localhost:8080/"
        },
        "id": "2uYEKRA9DMdt",
        "outputId": "e33fc45b-d83a-419a-c86b-aefcf8f7c4b5"
      },
      "execution_count": 10,
      "outputs": [
        {
          "output_type": "execute_result",
          "data": {
            "text/plain": [
              "5"
            ]
          },
          "metadata": {},
          "execution_count": 10
        }
      ]
    },
    {
      "cell_type": "code",
      "source": [
        "#mudança do nome \n",
        "alunos[1] = 'Júnior'"
      ],
      "metadata": {
        "id": "JXWBAqdKFPm8"
      },
      "execution_count": 8,
      "outputs": []
    },
    {
      "cell_type": "code",
      "source": [
        "#inserir valores \n",
        "alunos.append('Silvio')\n"
      ],
      "metadata": {
        "id": "OdbAJgvQGPeT"
      },
      "execution_count": 11,
      "outputs": []
    },
    {
      "cell_type": "code",
      "source": [
        "#descobrir se existe valor \n",
        "if 'Marcos' in alunos:\n",
        "  print('tem Marcos SIIM')  \n",
        "else:\n",
        "  print('Tem Marcos nãaaoooo')\n"
      ],
      "metadata": {
        "colab": {
          "base_uri": "https://localhost:8080/"
        },
        "id": "T69ouZaqNBVB",
        "outputId": "066fd0ca-db20-4f44-b31e-30a0a4fc1813"
      },
      "execution_count": 15,
      "outputs": [
        {
          "output_type": "stream",
          "name": "stdout",
          "text": [
            "tem Marcos SIIM\n"
          ]
        }
      ]
    },
    {
      "cell_type": "code",
      "source": [
        "nome = input('Digite o nome')\n",
        "if nome in alunos:\n",
        "  print('Tem'+ nome)  \n",
        "else:\n",
        "  print('Não Tem',nome) "
      ],
      "metadata": {
        "colab": {
          "base_uri": "https://localhost:8080/"
        },
        "id": "PHAAy2otOjjf",
        "outputId": "cddd30ec-be77-4505-bf9b-34cf1faed8ab"
      },
      "execution_count": 14,
      "outputs": [
        {
          "output_type": "stream",
          "name": "stdout",
          "text": [
            "Digite o nomeMarcos\n",
            "TemMarcos\n"
          ]
        }
      ]
    },
    {
      "cell_type": "code",
      "source": [
        "#Criar lista de numeros 1 a 10\n",
        "numeros = []\n",
        "for num in range(10):\n",
        "  numeros.append(num)"
      ],
      "metadata": {
        "id": "oFDJSJvoT2cv"
      },
      "execution_count": 20,
      "outputs": []
    },
    {
      "cell_type": "code",
      "source": [
        "dobro = []\n",
        "for num in numeros:\n",
        "  dobro.append(numeros[num]*2)\n",
        "  dobro"
      ],
      "metadata": {
        "id": "xMx5gZ8hWTRd"
      },
      "execution_count": null,
      "outputs": []
    },
    {
      "cell_type": "code",
      "source": [
        "#Descubra se é par \n",
        "for num in numeros:\n",
        "  if numeros[num]%2 ==0:\n",
        "    print(numeros[num])"
      ],
      "metadata": {
        "colab": {
          "base_uri": "https://localhost:8080/"
        },
        "id": "nVLkJuXjXJJ1",
        "outputId": "de9a1051-36c1-41a4-8698-739f839aa59a"
      },
      "execution_count": 22,
      "outputs": [
        {
          "output_type": "stream",
          "name": "stdout",
          "text": [
            "0\n",
            "2\n",
            "4\n",
            "6\n",
            "8\n"
          ]
        }
      ]
    }
  ]
}